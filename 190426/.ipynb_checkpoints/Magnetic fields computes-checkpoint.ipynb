{
 "cells": [
  {
   "cell_type": "code",
   "execution_count": 9,
   "metadata": {},
   "outputs": [],
   "source": [
    "using LinearAlgebra, PyPlot"
   ]
  },
  {
   "cell_type": "code",
   "execution_count": 10,
   "metadata": {},
   "outputs": [
    {
     "data": {
      "text/plain": [
       "getCoilPos (generic function with 1 method)"
      ]
     },
     "execution_count": 10,
     "metadata": {},
     "output_type": "execute_result"
    }
   ],
   "source": [
    "function getRotMat(ang_rad, ax)\n",
    "#     input: ang_rad (angle in radian)\n",
    "#     ax: 1: roll  (rot in x-axis)\n",
    "#         2: pitch (rot in y-axis)\n",
    "#         3: yaw   (rot in z-axis)\n",
    "    id = [0,1,2].+ax\n",
    "    id[id.>3] .= id[id.>3] .- 3;\n",
    "    M = zeros(3,3)\n",
    "    M[id[1],id[1]] = 1;\n",
    "    M[id[2],id[2]] = cos(ang_rad);\n",
    "    M[id[2],id[3]] = sin(ang_rad);\n",
    "    M[id[3],id[3]] = M[id[2],id[2]];\n",
    "    M[id[3],id[2]] = -M[id[2],id[3]];\n",
    "    M\n",
    "end\n",
    "function getRotMat_3D(ang_rad)\n",
    "#     input:  ang_rad (angle in radian) - roll, pitch, yaw    \n",
    "#     output: rot(pitch)-rot(roll)-rot(yaw)\n",
    "    M1 = getRotMat(ang_rad[1],1)\n",
    "    M2 = getRotMat(ang_rad[2],2)\n",
    "    M3 = getRotMat(ang_rad[3],3)\n",
    "    M = M3*M1*M2\n",
    "end\n",
    "function getCoilPosBase(r)\n",
    "#     input:  r: radius\n",
    "#     output: p: coil position in one circle\n",
    "    p = zeros(360,3)\n",
    "    p[:,1] .= 0\n",
    "    p[:,2] .= r.*cosd.(1:1:360)\n",
    "    p[:,3] .= r.*sind.(1:1:360);\n",
    "    p\n",
    "end\n",
    "function rotCoil(p, ang_rad)\n",
    "#     input:  p: coil position in one circle\n",
    "#             ang_rad (angle in radian) - roll, pitch, yaw    \n",
    "#     output: rotated positions\n",
    "    M = getRotMat_3D(ang_rad);\n",
    "    (M*p')';\n",
    "end\n",
    "function transCoil(p, dp);\n",
    "#     input:  p: coil position \n",
    "#             p0:moved\n",
    "#     output: rotated positions\n",
    "    p[:,1] = p[:,1] .+ dp[1]\n",
    "    p[:,2] = p[:,2] .+ dp[2]\n",
    "    p[:,3] = p[:,3] .+ dp[3]\n",
    "    p\n",
    "end\n",
    "function getCoilPos(p0, r, rot_rad)\n",
    "#     input:  p0: Coil center position [x,y,z]\n",
    "#             r : coil radius\n",
    "#             rot_rad - roll, pitch, yaw (angle in radian)\n",
    "#     output: rotated positions\n",
    "    M = getRotMat_3D(rot_rad);\n",
    "    p_base = getCoilPosBase(r)\n",
    "    p_rot = rotCoil(p_base, rot_rad);\n",
    "    p_tr = transCoil(p_rot, p0);\n",
    "    p_tr\n",
    "end\n"
   ]
  },
  {
   "cell_type": "markdown",
   "metadata": {},
   "source": [
    "-------------------------"
   ]
  },
  {
   "cell_type": "markdown",
   "metadata": {},
   "source": [
    "# Biot-Savart Law\n",
    "<img src=\"BiotSavartLaw_Diagram.png\" alt=\"Markdown Monster icon\" width = \"200\" >\n",
    "$$ d\\overrightarrow { B } =\\frac { \\mu _{ o } }{ 4\\pi  } \\frac { Id\\overrightarrow { s } \\times \\overrightarrow { r }  }{ r^{ 2 } } $$ "
   ]
  },
  {
   "cell_type": "code",
   "execution_count": 11,
   "metadata": {},
   "outputs": [],
   "source": [
    "μ0 = 4π * 1e-7 # Tm/A;\n",
    "I = 1.0 # A;"
   ]
  },
  {
   "cell_type": "code",
   "execution_count": 12,
   "metadata": {},
   "outputs": [],
   "source": [
    "# Location of Coil (±d, ±r)\n",
    "r = 185.000*1e-3; # m\n",
    "d = 187.643*1e-3; # m"
   ]
  },
  {
   "cell_type": "code",
   "execution_count": 13,
   "metadata": {},
   "outputs": [
    {
     "ename": "MethodError",
     "evalue": "MethodError: no method matching getCoilPos(::Float64)\nClosest candidates are:\n  getCoilPos(::Any, !Matched::Any, !Matched::Any) at In[10]:54",
     "output_type": "error",
     "traceback": [
      "MethodError: no method matching getCoilPos(::Float64)\nClosest candidates are:\n  getCoilPos(::Any, !Matched::Any, !Matched::Any) at In[10]:54",
      "",
      "Stacktrace:",
      " [1] getCoilPos(::Array{Float64,1}, ::Float64, ::Array{Float64,1}) at .\\In[10]:55",
      " [2] (::getfield(Main, Symbol(\"##5#6\")))(::Int64) at .\\none:0",
      " [3] iterate at .\\generator.jl:47 [inlined]",
      " [4] collect(::Base.Generator{UnitRange{Int64},getfield(Main, Symbol(\"##5#6\"))}) at .\\array.jl:606",
      " [5] top-level scope at In[13]:5"
     ]
    }
   ],
   "source": [
    "d = [5, 10, 15.0]\n",
    "r = [4, 9, 14.0]\n",
    "_d = zeros(3,3); _d[1,3] = d[1]; _d[2,2] = d[2];  _d[3,1] = d[3]; \n",
    "coilθ = zeros(3,3); coilθ[1,2] = π/2; coilθ[2,3] = π/2;  coilθ[1,1] = 0; \n",
    "\n",
    "p1 = [getCoilPos( _d[i,:], r[i], coilθ[i,:]) for i = 1:3]\n",
    "p2 = [getCoilPos(-_d[i,:], r[i], coilθ[i,:]) for i = 1:3]\n",
    "p = vcat(p1,p2)"
   ]
  },
  {
   "cell_type": "code",
   "execution_count": 14,
   "metadata": {},
   "outputs": [
    {
     "ename": "UndefVarError",
     "evalue": "UndefVarError: p not defined",
     "output_type": "error",
     "traceback": [
      "UndefVarError: p not defined",
      "",
      "Stacktrace:",
      " [1] top-level scope at .\\In[14]:1"
     ]
    }
   ],
   "source": [
    "for i = 1:length(p)\n",
    "    plot3D(p[i][:,1], p[i][:,2], p[i][:,3]); \n",
    "end"
   ]
  },
  {
   "cell_type": "code",
   "execution_count": null,
   "metadata": {},
   "outputs": [],
   "source": []
  }
 ],
 "metadata": {
  "kernelspec": {
   "display_name": "Julia 1.1.0",
   "language": "julia",
   "name": "julia-1.1"
  },
  "language_info": {
   "file_extension": ".jl",
   "mimetype": "application/julia",
   "name": "julia",
   "version": "1.1.0"
  }
 },
 "nbformat": 4,
 "nbformat_minor": 2
}
