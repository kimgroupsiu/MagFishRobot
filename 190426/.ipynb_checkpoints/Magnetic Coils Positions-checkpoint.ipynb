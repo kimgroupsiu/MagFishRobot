{
 "cells": [
  {
   "cell_type": "code",
   "execution_count": 1,
   "metadata": {},
   "outputs": [],
   "source": [
    "using LinearAlgebra, PyPlot"
   ]
  },
  {
   "cell_type": "code",
   "execution_count": 2,
   "metadata": {},
   "outputs": [
    {
     "data": {
      "text/plain": [
       "getCoilPosThick (generic function with 2 methods)"
      ]
     },
     "execution_count": 2,
     "metadata": {},
     "output_type": "execute_result"
    }
   ],
   "source": [
    "function getRotMat(ang_rad, ax)\n",
    "#     input: ang_rad (angle in radian)\n",
    "#     ax: 1: roll  (rot in x-axis)\n",
    "#         2: pitch (rot in y-axis)\n",
    "#         3: yaw   (rot in z-axis)\n",
    "    id = [0,1,2].+ax\n",
    "    id[id.>3] .= id[id.>3] .- 3;\n",
    "    M = zeros(3,3)\n",
    "    M[id[1],id[1]] = 1;\n",
    "    M[id[2],id[2]] = cos(ang_rad);\n",
    "    M[id[2],id[3]] = sin(ang_rad);\n",
    "    M[id[3],id[3]] = M[id[2],id[2]];\n",
    "    M[id[3],id[2]] = -M[id[2],id[3]];\n",
    "    M\n",
    "end\n",
    "function getRotMat_3D(ang_rad)\n",
    "#     input:  ang_rad (angle in radian) - roll, pitch, yaw    \n",
    "#     output: rot(pitch)-rot(roll)-rot(yaw)\n",
    "    M1 = getRotMat(ang_rad[1],1)\n",
    "    M2 = getRotMat(ang_rad[2],2)\n",
    "    M3 = getRotMat(ang_rad[3],3)\n",
    "    M = M3*M1*M2\n",
    "end\n",
    "function getCoilPosBase(r)\n",
    "#     input:  r: radius\n",
    "#     output: p: coil position in one circle\n",
    "    dth = 0:1:360\n",
    "    p = zeros(length(dth),3)\n",
    "    p[:,1] .= 0\n",
    "    p[:,2] .= r.*cosd.(dth)\n",
    "    p[:,3] .= r.*sind.(dth);\n",
    "    p\n",
    "end\n",
    "function rotCoil(p, ang_rad)\n",
    "#     input:  p: coil position in one circle\n",
    "#             ang_rad (angle in radian) - roll, pitch, yaw    \n",
    "#     output: rotated positions\n",
    "    M = getRotMat_3D(ang_rad);\n",
    "    (M*p')';\n",
    "end\n",
    "function transCoil(p, dp);\n",
    "#     input:  p: coil position \n",
    "#             p0:moved\n",
    "#     output: rotated positions\n",
    "    p[:,1] = p[:,1] .+ dp[1]\n",
    "    p[:,2] = p[:,2] .+ dp[2]\n",
    "    p[:,3] = p[:,3] .+ dp[3]\n",
    "    p\n",
    "end\n",
    "function getCoilPos(p0, r, rot_rad)\n",
    "#     input:  p0: Coil center position [x,y,z]\n",
    "#             r : coil radius\n",
    "#             rot_rad - roll, pitch, yaw (angle in radian)\n",
    "#     output: rotated positions\n",
    "    M = getRotMat_3D(rot_rad);\n",
    "    p_base = getCoilPosBase(r)\n",
    "    p_rot = rotCoil(p_base, rot_rad);\n",
    "    p_tr = transCoil(p_rot, p0);\n",
    "    p_tr\n",
    "end\n",
    "function getCoilPos(p0, r, rot_rad, _xoffset)\n",
    "#     input:  p0: Coil center position [x,y,z]\n",
    "#             r : coil radius\n",
    "#             rot_rad - roll, pitch, yaw (angle in radian)\n",
    "#     output: rotated positions\n",
    "    M = getRotMat_3D(rot_rad);\n",
    "    p_base = getCoilPosBase(r)\n",
    "    p_base[:,1] .= p_base[:,1] .+ _xoffset\n",
    "    p_rot = rotCoil(p_base, rot_rad);\n",
    "    p_tr = transCoil(p_rot, p0);\n",
    "    p_tr\n",
    "end\n",
    "function getCoilPosThick(_d, _θ, _r, _n1, _n2, _w = 0.57)\n",
    "    # inputs _d: Coil center location [x, y, z] in mm\n",
    "    #        _θ: Coil rotations [θx, θy, θz] in radian - rotations on the center coil\n",
    "    #        _r: radius in mm\n",
    "    #        _n: turns\n",
    "    #        _w: coil thickness in mm (Default: AWG23 - 0.57 mm)\n",
    "    # output: position locations\n",
    "    t1 = (_n1[end]-1)*_w\n",
    "    t2 = (_n2[end]-1)*_w\n",
    "    p = []\n",
    "    for j = _n1\n",
    "        for k = _n2\n",
    "            _p = getCoilPos(_d, _r + (k*_w - t2/2), _θ, j*_w - t1/2)\n",
    "            isempty(p) || (p = vcat(p, _p)); ~isempty(p) || (p = _p);\n",
    "        end\n",
    "    end\n",
    "    p\n",
    "end"
   ]
  },
  {
   "cell_type": "markdown",
   "metadata": {},
   "source": [
    "-------------------------"
   ]
  },
  {
   "cell_type": "markdown",
   "metadata": {},
   "source": [
    "# Biot-Savart Law\n",
    "<img src=\"BiotSavartLaw_Diagram.png\" alt=\"Markdown Monster icon\" width = \"200\" >\n",
    "$$ d\\overrightarrow { B } =\\frac { \\mu _{ o } }{ 4\\pi  } \\frac { Id\\overrightarrow { s } \\times \\overrightarrow { r }  }{ r^{ 2 } } $$ "
   ]
  },
  {
   "cell_type": "code",
   "execution_count": 3,
   "metadata": {},
   "outputs": [],
   "source": [
    "μ0 = 4π * 1e-7 # Tm/A;\n",
    "I = 1.0 # A;"
   ]
  },
  {
   "cell_type": "code",
   "execution_count": 4,
   "metadata": {},
   "outputs": [],
   "source": [
    "input = [130, 11.48, 84.1167]\n",
    "input = [210, 14.35, 146.04]\n",
    "input = [290, 17.22, 196.48]\n",
    "input = [370, 19.04, 244.76]\n",
    "t = input[2]\n",
    "t_unit = 0.57\n",
    "r = (input[1]/2 + t/2)\n",
    "n = t./t_unit\n",
    "d = input[3]-t\n",
    "[d, r, n];"
   ]
  },
  {
   "cell_type": "code",
   "execution_count": 5,
   "metadata": {},
   "outputs": [],
   "source": [
    "d = [72.6375, 117.338, 162.038, 206.682]./2\n",
    "r = [65, 105, 145, 185]\n",
    "n = [20, 25, 30, 34]\n",
    "_d = zeros(3,3); _d[1,3] = d[1]; _d[2,2] = d[2];  _d[3,1] = d[3]; \n",
    "coilθ = zeros(3,3); coilθ[1,2] = π/2; coilθ[2,3] = π/2;  coilθ[1,1] = 0; \n",
    "p1 = [getCoilPos( _d[i,:], r[i], coilθ[i,:]) for i = 1:3]\n",
    "p2 = [getCoilPos(-_d[i,:], r[i], coilθ[i,:]) for i = 1:3]\n",
    "p = vcat(p1,p2);"
   ]
  },
  {
   "cell_type": "code",
   "execution_count": 7,
   "metadata": {},
   "outputs": [
    {
     "data": {
      "image/png": "[encoded data removed]",
      "text/plain": [
       "Figure(PyObject <Figure size 640x480 with 3 Axes>)"
      ]
     },
     "metadata": {},
     "output_type": "display_data"
    }
   ],
   "source": [
    "subplot(2,2,1)\n",
    "[plot(p[i][:,1], p[i][:,2]) for i = 1:length(p)]\n",
    "axis(:equal);grid(:on)\n",
    "subplot(2,2,3)\n",
    "[plot(p[i][:,1], p[i][:,3]) for i = 1:length(p)]\n",
    "axis(:equal);grid(:on)\n",
    "subplot(2,2,4)\n",
    "[plot(p[i][:,2], p[i][:,3]) for i = 1:length(p)]\n",
    "axis(:equal);grid(:on)"
   ]
  },
  {
   "cell_type": "markdown",
   "metadata": {},
   "source": [
    "Given ==> d, r, nx, ny, t, rot_rad\n",
    "\n",
    "coordinate => i-th coil, j-th/k-th wire\n"
   ]
  },
  {
   "cell_type": "code",
   "execution_count": 178,
   "metadata": {},
   "outputs": [],
   "source": [
    "d = [72.6375, 117.338, 162.038, 206.682]./2\n",
    "r = [65, 105, 145, 185]\n",
    "n = [20, 25, 30, 34]\n",
    "coilθ = [π/2, π/2, 0];\n",
    "p1 = [];p2 = [];\n",
    "for i = 1:3\n",
    "    _d = zeros(3); _d[4-i] = d[i];\n",
    "    _θ = zeros(3); _θ[mod((i),3)+1] = coilθ[i];\n",
    "    _r = r[i]\n",
    "    _n1 = 1:n[i]\n",
    "    _n2 = 1:n[i]\n",
    "    _p1 = getCoilPosThick( _d, _θ, _r, _n1, _n2)\n",
    "    _p2 = getCoilPosThick(-_d, _θ, _r, _n1, _n2)\n",
    "    ~(i==1) || (p1 = _p1);\n",
    "    ~(i==2) || (p1 = [p1, _p1]);\n",
    "    ~(i> 2) || (p1 = [p1; [_p1]]);    \n",
    "    ~(i==1) || (p2 = _p2);\n",
    "    ~(i==2) || (p2 = [p2, _p2]);\n",
    "    ~(i> 2) || (p2 = [p2; [_p2]]);    \n",
    "end"
   ]
  },
  {
   "cell_type": "code",
   "execution_count": 183,
   "metadata": {},
   "outputs": [
    {
     "data": {
      "image/png": "[encoded data removed]",
      "text/plain": [
       "Figure(PyObject <Figure size 640x480 with 3 Axes>)"
      ]
     },
     "metadata": {},
     "output_type": "display_data"
    }
   ],
   "source": [
    "for i = 1:3\n",
    "    subplot(2,2,3); plot(p1[i][:,1], p1[i][:,2]); axis(:equal);grid(:on);\n",
    "    subplot(2,2,1); plot(p1[i][:,1], p1[i][:,3]); axis(:equal);grid(:on)\n",
    "    subplot(2,2,2); plot(p1[i][:,2], p1[i][:,3]); axis(:equal);grid(:on)        \n",
    "    subplot(2,2,3); plot(p2[i][:,1], p2[i][:,2]); axis(:equal);grid(:on); xlabel(\"x\"); ylabel(\"y\")\n",
    "    subplot(2,2,1); plot(p2[i][:,1], p2[i][:,3]); axis(:equal);grid(:on); xlabel(\"x\"); ylabel(\"z\")\n",
    "    subplot(2,2,2); plot(p2[i][:,2], p2[i][:,3]); axis(:equal);grid(:on); xlabel(\"y\"); ylabel(\"z\")\n",
    "end\n",
    "tight_layout()"
   ]
  },
  {
   "cell_type": "code",
   "execution_count": 201,
   "metadata": {},
   "outputs": [],
   "source": [
    "for i = 1:3\n",
    "    open(\"coil_L_$i.bin\", \"w\") do fobj\n",
    "        write(fobj, p1[i])\n",
    "    end\n",
    "    open(\"coil_R_$i.bin\", \"w\") do fobj\n",
    "        write(fobj, p2[i])\n",
    "    end\n",
    "end"
   ]
  },
  {
   "cell_type": "code",
   "execution_count": 222,
   "metadata": {},
   "outputs": [
    {
     "data": {
      "text/plain": [
       "3-element Array{Int64,1}:\n",
       " 433200\n",
       " 676875\n",
       " 974700"
      ]
     },
     "execution_count": 222,
     "metadata": {},
     "output_type": "execute_result"
    }
   ],
   "source": [
    "[length(p1[i]) for i = 1:3]\n"
   ]
  },
  {
   "cell_type": "code",
   "execution_count": null,
   "metadata": {},
   "outputs": [],
   "source": [
    "    open(\"coil_L_$i.bin\", \"w\") do fobj\n",
    "        write(fobj, p1[i])\n",
    "    end"
   ]
  },
  {
   "cell_type": "markdown",
   "metadata": {},
   "source": [
    "--------------------------------"
   ]
  },
  {
   "cell_type": "code",
   "execution_count": 221,
   "metadata": {},
   "outputs": [
    {
     "data": {
      "text/plain": [
       "144400×3 Array{Float64,2}:\n",
       "  -2.96671e-16  60.155   31.4738\n",
       "  -1.04985      60.1458  31.4738\n",
       "  -2.09938      60.1184  31.4738\n",
       "  -3.14827      60.0726  31.4738\n",
       "  -4.1962       60.0085  31.4738\n",
       "  -5.24285      59.9261  31.4738\n",
       "  -6.28791      59.8255  31.4738\n",
       "  -7.33105      59.7066  31.4738\n",
       "  -8.37196      59.5696  31.4738\n",
       "  -9.41032      59.4144  31.4738\n",
       " -10.4458       59.2411  31.4738\n",
       " -11.4781       59.0498  31.4738\n",
       " -12.5069       58.8405  31.4738\n",
       "   ⋮                            \n",
       "  13.5446       69.6808  42.3038\n",
       "  12.3264       69.9066  42.3038\n",
       "  11.1045       70.1111  42.3038\n",
       "   9.8792       70.2942  42.3038\n",
       "   8.6509       70.4559  42.3038\n",
       "   7.41995      70.5961  42.3038\n",
       "   6.18675      70.7149  42.3038\n",
       "   4.95166      70.8121  42.3038\n",
       "   3.71507      70.8877  42.3038\n",
       "   2.47734      70.9418  42.3038\n",
       "   1.23886      70.9742  42.3038\n",
       "   3.66476e-16  70.985   42.3038"
      ]
     },
     "execution_count": 221,
     "metadata": {},
     "output_type": "execute_result"
    }
   ],
   "source": [
    "open(\"coil_L_$i.bin\", \"r\") do fobj\n",
    "    n = Int64(filesize(fobj)/8/3)\n",
    "    _out = zeros(Float64, n, 3)\n",
    "    read!(fobj, _out)\n",
    "    _out\n",
    "end"
   ]
  },
  {
   "cell_type": "code",
   "execution_count": 214,
   "metadata": {},
   "outputs": [
    {
     "data": {
      "text/plain": [
       "216600"
      ]
     },
     "execution_count": 214,
     "metadata": {},
     "output_type": "execute_result"
    }
   ],
   "source": [
    "Int(filesize(\"coil_L_$i.bin\")/8/2)"
   ]
  },
  {
   "cell_type": "code",
   "execution_count": null,
   "metadata": {},
   "outputs": [],
   "source": []
  },
  {
   "cell_type": "code",
   "execution_count": null,
   "metadata": {},
   "outputs": [],
   "source": []
  }
 ],
 "metadata": {
  "kernelspec": {
   "display_name": "Julia 1.1.0",
   "language": "julia",
   "name": "julia-1.1"
  },
  "language_info": {
   "file_extension": ".jl",
   "mimetype": "application/julia",
   "name": "julia",
   "version": "1.1.0"
  }
 },
 "nbformat": 4,
 "nbformat_minor": 2
}
