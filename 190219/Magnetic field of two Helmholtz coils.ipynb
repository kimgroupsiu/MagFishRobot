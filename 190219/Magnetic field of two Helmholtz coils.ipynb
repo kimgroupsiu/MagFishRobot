{
 "cells": [
  {
   "cell_type": "markdown",
   "metadata": {},
   "source": [
    "# Magentic fields "
   ]
  },
  {
   "cell_type": "code",
   "execution_count": 3,
   "metadata": {},
   "outputs": [],
   "source": [
    "using PyPlot"
   ]
  },
  {
   "cell_type": "code",
   "execution_count": 4,
   "metadata": {},
   "outputs": [],
   "source": [
    "μ0 = 4pi*1e-7 #N/A^2;"
   ]
  },
  {
   "cell_type": "code",
   "execution_count": 5,
   "metadata": {},
   "outputs": [
    {
     "data": {
      "text/plain": [
       "getMagField (generic function with 1 method)"
      ]
     },
     "execution_count": 5,
     "metadata": {},
     "output_type": "execute_result"
    }
   ],
   "source": [
    "function getMagField(_I, _R, _n, x_loc_from_coil)\n",
    "    μ0*_I/2 * R^2 *inv.((R^2 + x_loc_from_coil.^2).^(3/2)) *_n\n",
    "end    "
   ]
  },
  {
   "cell_type": "raw",
   "metadata": {},
   "source": [
    "d = [72.6375, 117.338, 162.038, 206.682]./2\n",
    "r = [65, 105, 145, 185]\n",
    "n = [20, 25, 30, 34]"
   ]
  },
  {
   "cell_type": "code",
   "execution_count": 6,
   "metadata": {},
   "outputs": [],
   "source": [
    "R = 65*1e-3 # m\n",
    "I = 1 # A\n",
    "n = 20*20; # winding"
   ]
  },
  {
   "cell_type": "code",
   "execution_count": 9,
   "metadata": {},
   "outputs": [
    {
     "data": {
      "image/png": "[encoded data removed]",
      "text/plain": [
       "PyPlot.Figure(PyObject <Figure size 640x480 with 1 Axes>)"
      ]
     },
     "metadata": {},
     "output_type": "display_data"
    }
   ],
   "source": [
    "d = 72.6375*1e-3;\n",
    "x = -d/2:0.001:d/2\n",
    "B1_mT = getMagField(I, R, n, x + d/2)*1e3\n",
    "B2_mT = getMagField(I, R, n, x - d/2)*1e3;\n",
    "\n",
    "plot(x, B1_mT)\n",
    "plot(x, B2_mT)\n",
    "plot(x, B1_mT + B2_mT)\n",
    "legend([\"B1\",\"B2\",\"B\"]);"
   ]
  },
  {
   "cell_type": "code",
   "execution_count": 20,
   "metadata": {},
   "outputs": [
    {
     "data": {
      "text/plain": [
       "5.1446748997943885"
      ]
     },
     "execution_count": 20,
     "metadata": {},
     "output_type": "execute_result"
    }
   ],
   "source": [
    "(B1_mT + B2_mT)[37]"
   ]
  },
  {
   "cell_type": "raw",
   "metadata": {},
   "source": [
    "d = 2*R;\n",
    "x = -d/2:0.001:d/2\n",
    "B1_mT = getMagField(I, R, n, x + d/2)*1e3\n",
    "B2_mT = getMagField(I, R, n, x - d/2)*1e3;\n",
    "\n",
    "plot(x*1e3, B1_mT)\n",
    "plot(x*1e3, B2_mT)\n",
    "plot(x*1e3, B1_mT + B2_mT)\n",
    "legend([\"B1\",\"B2\",\"B\"]); xlabel(\"[mm]\"); ylabel(\"[mT]\")\n",
    "title(\"R = $(R*1e3)mm, d = $(d*1e3)mm\");"
   ]
  },
  {
   "cell_type": "raw",
   "metadata": {},
   "source": [
    "R = 65*1e-3\n",
    "d = R*1.1172*1e-3\n",
    "x = -d/2:0.001:d/2\n",
    "B1_mT = getMagField(I, R, n, x + d/2)*1e3\n",
    "B2_mT = getMagField(I, R, n, x - d/2)*1e3;\n",
    "\n",
    "plot(x*1e3, B1_mT)\n",
    "plot(x*1e3, B2_mT)\n",
    "plot(x*1e3, B1_mT + B2_mT)\n",
    "legend([\"B1\",\"B2\",\"B\"]); xlabel(\"[mm]\"); ylabel(\"[mT]\")\n",
    "title(\"R = $(R*1e3)mm, d = $(d*1e3)mm\");"
   ]
  },
  {
   "cell_type": "raw",
   "metadata": {},
   "source": [
    "R = 65*1e-3\n",
    "d = 172*1e-3\n",
    "x = -d/2:0.001:d/2\n",
    "B1_mT = getMagField(I, R, n, x + d/2)*1e3\n",
    "B2_mT = getMagField(I, R, n, x - d/2)*1e3;\n",
    "\n",
    "B = B1_mT + B2_mT;\n",
    "v, id1 = findmin(abs.(x .+ 0.025))\n",
    "v, id2 = findmin(abs.(x .- 0.025))\n",
    "id3 = ceil(Int, length(x)/2)\n",
    "B[id1], B[id3], (B[id1]/B[id3]-1)*100"
   ]
  },
  {
   "cell_type": "raw",
   "metadata": {},
   "source": [
    "_n = [400, 1000, 1200]\n",
    "_R = [80, 80, 80]*1e-3\n",
    "_d = [0, 162, 192]*1e-3"
   ]
  },
  {
   "cell_type": "raw",
   "metadata": {},
   "source": [
    "i = 3\n",
    "R = _R[i]\n",
    "d = _d[i]\n",
    "n = _n[i]\n",
    "x = -d/2:0.001:d/2\n",
    "B1_mT = getMagField(I, R, n, x + d/2)*1e3\n",
    "B2_mT = getMagField(I, R, n, x - d/2)*1e3;\n",
    "\n",
    "B = B1_mT + B2_mT;\n",
    "v, id1 = findmin(abs.(x .+ 0.025))\n",
    "v, id2 = findmin(abs.(x .- 0.025))\n",
    "id3 = ceil(Int, length(x)/2)\n",
    "B[id1], B[id3], (B[id1]/B[id3]-1)*100"
   ]
  },
  {
   "cell_type": "raw",
   "metadata": {},
   "source": [
    "w_coil = 0.8118\n",
    "n = [35, 35]\n",
    "w_coil.*n"
   ]
  },
  {
   "cell_type": "markdown",
   "metadata": {},
   "source": [
    "---------------------"
   ]
  },
  {
   "cell_type": "raw",
   "metadata": {},
   "source": [
    "d = 0.57404 # inch: Diameter [mm]\n",
    "A_dia = pi*d^2/4 # \n",
    "A_cross = "
   ]
  },
  {
   "cell_type": "raw",
   "metadata": {},
   "source": [
    "d*d"
   ]
  }
 ],
 "metadata": {
  "kernelspec": {
   "display_name": "Julia 0.6.4",
   "language": "julia",
   "name": "julia-0.6"
  },
  "language_info": {
   "file_extension": ".jl",
   "mimetype": "application/julia",
   "name": "julia",
   "version": "0.6.4"
  }
 },
 "nbformat": 4,
 "nbformat_minor": 2
}
